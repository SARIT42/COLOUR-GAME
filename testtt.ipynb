{
 "metadata": {
  "language_info": {
   "codemirror_mode": {
    "name": "ipython",
    "version": 3
   },
   "file_extension": ".py",
   "mimetype": "text/x-python",
   "name": "python",
   "nbconvert_exporter": "python",
   "pygments_lexer": "ipython3",
   "version": "3.9.1-final"
  },
  "orig_nbformat": 2,
  "kernelspec": {
   "name": "python3",
   "display_name": "Python 3.9.1 64-bit",
   "metadata": {
    "interpreter": {
     "hash": "63fd5069d213b44bf678585dea6b12cceca9941eaf7f819626cde1f2670de90d"
    }
   }
  }
 },
 "nbformat": 4,
 "nbformat_minor": 2,
 "cells": [
  {
   "cell_type": "code",
   "execution_count": 61,
   "metadata": {},
   "outputs": [],
   "source": [
    "import tkinter\n",
    "root=tkinter.Tk()\n",
    "import random"
   ]
  },
  {
   "cell_type": "code",
   "execution_count": 62,
   "metadata": {},
   "outputs": [],
   "source": [
    "cl=['red','blue','green','yellow', 'orange','black','brown']\n",
    "point=0\n",
    "tl=30"
   ]
  },
  {
   "cell_type": "code",
   "execution_count": 63,
   "metadata": {},
   "outputs": [],
   "source": [
    "def beggm(event):\n",
    "    if tl==30:\n",
    "        countd()\n",
    "\n",
    "    nxtcl()     \n",
    "        "
   ]
  },
  {
   "cell_type": "code",
   "execution_count": 64,
   "metadata": {},
   "outputs": [],
   "source": [
    "def nxtcl():\n",
    "    global point\n",
    "    global tl\n",
    "\n",
    "    if tl>0:\n",
    "        e.focus_set()\n",
    "\n",
    "        if e.get().lower()==cl[1].lower():\n",
    "            point=point+2\n",
    "        else:\n",
    "            point=point-2\n",
    "            \n",
    "\n",
    "        e.delete(0,tkinter.END)\n",
    "\n",
    "        random.shuffle(cl)\n",
    "\n",
    "        label.config(fg=str(cl[1]),text=str(cl[0]))\n",
    "        pointLabel.config(text=\"Points: \"+str(point))\n",
    "\n"
   ]
  },
  {
   "cell_type": "code",
   "execution_count": 65,
   "metadata": {},
   "outputs": [],
   "source": [
    "def countd():\n",
    "    global tl\n",
    "\n",
    "    if tl>0:\n",
    "        tl=tl-1\n",
    "\n",
    "        tLabel.config(text=\"Time left: \"+str(tl))\n",
    "        tLabel.after(500,countd)\n"
   ]
  },
  {
   "cell_type": "code",
   "execution_count": 66,
   "metadata": {},
   "outputs": [],
   "source": [
    "root.title(\"GAME BY SARIT\")\n",
    "root.geometry(\"750x400\")\n",
    "\n",
    "instructions=tkinter.Label(root, text=\"Type the colour of the shown word\" , font=('Helvetica',20))\n",
    "instructions.pack()\n",
    "\n",
    "pointLabel=tkinter.Label(root, text=\"Press enter to start\" , font=('Helvetica',18))\n",
    "pointLabel.pack()\n",
    "\n",
    "tLabel=tkinter.Label(root, text=\"time left: \"+str(tl) , font=('Helvetica',18))\n",
    "tLabel.pack()\n",
    "\n",
    "label=tkinter.Label(root, font=('Helvetica',60))\n",
    "label.pack()\n",
    "\n",
    "e=tkinter.Entry(root)\n",
    "\n",
    "root.bind('<Return>',beggm)\n",
    "e.pack()\n",
    "\n",
    "e.focus_set()\n",
    "\n",
    "root.mainloop()"
   ]
  },
  {
   "cell_type": "code",
   "execution_count": 26,
   "metadata": {},
   "outputs": [],
   "source": [
    "\n",
    "\n"
   ]
  },
  {
   "cell_type": "code",
   "execution_count": null,
   "metadata": {},
   "outputs": [],
   "source": []
  }
 ]
}